{
 "cells": [
  {
   "cell_type": "markdown",
   "metadata": {
    "id": "Op_FbrczZGkf"
   },
   "source": [
    "# **Quantum Key Distribution with the E91 Protocol**\n",
    "---\n",
    "\n",
    "## **Introduction** \n",
    "This project extends your work in Week 8 to implement a more advanced Quantum Key Distribution protocol relying upon quantum entanglement: the E91 Protocol. Proposed just 7 years after the BB84 protocol by Artur K. Ekert, this protocol is a strong candidate for securing the quantum and maybe even classical internets of the future. It is particularly powerful because Alice and Bob only need public classical channels and shared Bell pairs whereas BB84 and others also require quantum channels.\n",
    "\n",
    "<br>\n",
    "\n",
    "## **Description**\n",
    "E91 can be broken down into the following steps:\n",
    "\n",
    "**Phase 1**: Alice Makes Choices and Measures\n",
    "\n",
    "> **Step 1**: Alice and Bob share a Bell pair.\n",
    ">\n",
    "> **Step 2**: Alice randomly chooses 1 of 3 circuits to apply to each of her qubits.\n",
    ">\n",
    "> **Step 3**: Alice measures her qubits.\n",
    "\n",
    "**Phase 2**: Bob Makes Choices and Measures\n",
    "\n",
    "> **Step 4**: Bob randomly chooses 1 or 3 circuits to apply to each of his qubits.\n",
    ">\n",
    "> **Step 5**: Bob measures his qubits.\n",
    "\n",
    "**Phase 3**: Alice and Bob Compare Choices\n",
    "\n",
    "> **Step 6**: Alice and Bob compare choices, sorting into two groups:\n",
    "1. *Matching choices*: Alice and Bob each create their own key from these.\n",
    "1. *Mismatching choices*: Alice and Bob tell each other their measurement results and test how entangled they were. If Eve has intercepted, the entanglement between Alice and Bob will be less than expected.\n",
    "\n",
    "\n",
    "<br>\n",
    "\n",
    "The core ideas behind this protocol are:\n",
    "* Alice and Bob share maximally entangled qubits to start (Step #1). In practice, this could be implemented using Quantum Repeaters so that Alice and Bob actually never have to meeting for the protocol.\n",
    "* If Eve intercepts in any way, she will destroy some or all of the entanglement due to the effect of measurement.\n",
    "* Alice and Bob can determine how much entanglement they have in the end (Step #6), so they can tell if Eve destroyed some or not.\n",
    "* Alice and Bob only have to communicate classically (Step #6). They never have to send quantum information to each other or even use secure private channels.\n",
    "\n",
    "\n",
    "<br>\n",
    "\n",
    "## **Key Questions**\n",
    "In this project, you will answer the following questions:\n",
    "\n",
    "1. How does Eve's interception change the amount of entanglement Alice and Bob share? Why?\n",
    "\n",
    "1. Imagine that Eve attempts to go unnoticed by preparing Alice and Bob's qubits back into the $|\\beta_{11}\\rangle$ state instead of whatever her measurement results were. Answer these two questions based on this scenario:\n",
    "  * Would this accomplish Eve's goal of going unnoticed? **Hint**: Think about how the entanglement would or would not change in this case. Consider writing code to test this.\n",
    "  * Why does this still keep Eve from learning Alice's and Bob's key?\n",
    "\n",
    "1. In BB84, Alice decides the key at the very beginning and tries communicating it to Bob securely. That is not the case in E91. *When* in the protocol is the key officially created? **Hint**: It's before Alice and Bob actually create their keys.\n",
    "\n",
    "<br>\n",
    "\n",
    "## **Structure**\n",
    "This project is broken into 3 parts:\n",
    "> **Part 1**: E91 Protocol for One Qubit\n",
    ">\n",
    ">> **Part 1.1**: Phase 1 - Alice Makes Choices and Measures\n",
    ">>\n",
    ">> **Part 1.2**: Phase 2 - Bob Makes Choices and Measures\n",
    ">>\n",
    ">> **Part 1.3**: Phase 3 - Alice and Bob Compare Choices\n",
    ">\n",
    "> **Part 2**: E91 Protocol for Multiple Qubits\n",
    ">\n",
    "> **Part 3**: Eve Intercepts!\n",
    ">\n",
    "> **Wrapping Up**\n",
    "\n",
    "\n",
    "\n",
    "<br>\n",
    "\n",
    "## **Resources**\n",
    "* [Week 8 Lab Solutions (BB84)](https://drive.google.com/file/d/1S-zNslzmNRtH2-sr024ykRueRRwCgb6M/view?usp=share_link)\n",
    "* [Qiskit Documentation: Z Rotation Gate](https://qiskit.org/documentation/stubs/qiskit.circuit.library.RZGate.html)\n",
    "* [Youtube: High Level Description of E91 Protocol by Artur Ekert Himself](https://www.youtube.com/watch?v=TyomwLbYhig)\n",
    "* [Quantum Cryptography Based on Bell's Theorem](http://www.physics.drexel.edu/~bob/Entanglement/Ekert_keydistribution.pdf): The original paper by Artur Ekert proposing this protocol in 1991\n",
    "* [QuTech Quantum Network Simulator: E91 Protocol](https://www.quantum-network.com/applications/5/)\n",
    "\n",
    "<br>\n",
    "\n",
    "**These resources aren't necessary for completing this project, but are provided in case you are curious about the way that entanglement is being tested.**\n",
    "* [Qiskit Textbook: Local Reality and the CHSH Inequality](https://qiskit.org/textbook/ch-demos/chsh.html)\n",
    "* [Wikipedia: CHSH Inequality](https://en.wikipedia.org/wiki/CHSH_inequality)\n",
    "* [Wikipedia: Bell's Theorem](https://en.wikipedia.org/wiki/Bell%27s_theorem)\n",
    "\n",
    "---"
   ]
  },
  {
   "cell_type": "markdown",
   "metadata": {
    "id": "eb449362-eeb9-437f-a63c-84935c496bd1"
   },
   "source": [
    "## **Part 0: Importing from Qiskit**\n",
    "---\n",
    "\n",
    "**Run the code below to import everything needed for this lab.**"
   ]
  },
  {
   "cell_type": "code",
   "execution_count": 1,
   "metadata": {
    "id": "_nvE4CopMt_N",
    "tags": []
   },
   "outputs": [
    {
     "name": "stdout",
     "output_type": "stream",
     "text": [
      "Libraries Imported Successfully!\n"
     ]
    }
   ],
   "source": [
    "#!pip install qiskit\n",
    "\n",
    "from qiskit import QuantumCircuit, Aer, transpile, assemble, execute, IBMQ\n",
    "from qiskit.visualization import plot_histogram\n",
    "\n",
    "import numpy as np\n",
    "import random\n",
    "import math\n",
    "\n",
    "import warnings\n",
    "warnings.filterwarnings('ignore')\n",
    "\n",
    "\n",
    "# Determine the amount of entanglement between these bits using the CHSH value\n",
    "def entanglement_amount(alice_choices, alice_bits, bob_choices, bob_bits):\n",
    "    \n",
    "  # count the different measurement results\n",
    "  # rows correspond to Alice and Bob's circuit choices: 00, 02, 20, 22\n",
    "  # NOTE: We do not consider circuits 1 or 3 for this test\n",
    "  # columns correspond to Alice and Bob's qubit measurements: 00, 01, 10, and 11\n",
    "  circuits = {'00': 0, '02': 1, '20': 2, '22': 3}\n",
    "  counts = [[0]*4 for i in range(4)]\n",
    "  for i in range(len(alice_choices)):\n",
    "    circuit = str(alice_choices[i]) + str(bob_choices[i])\n",
    "    state = int(alice_bits[i]) + 2*int(bob_bits[i])\n",
    "\n",
    "    if circuit in circuits: counts[circuits[circuit]][state] += 1\n",
    "\n",
    "\n",
    "  # expectation values calculated by \n",
    "  # adding times Alice and Bob's bits agreed and\n",
    "  # subtracting times Alice and Bob's bits disagreed\n",
    "  expectations = []\n",
    "\n",
    "  for circuit in range(4):\n",
    "    expectations += [counts[circuit][0] + counts[circuit][3] - counts[circuit][1] - counts[circuit][2]]\n",
    "    total = sum(counts[circuit])\n",
    "\n",
    "    if total != 0: expectations[circuit] /= total\n",
    "\n",
    "\n",
    "  # returning CHSH correlation\n",
    "  return expectations[0] - expectations[1] + expectations[2] + expectations[3]\n",
    "  \n",
    "\n",
    "print(\"Libraries Imported Successfully!\")"
   ]
  },
  {
   "cell_type": "markdown",
   "metadata": {
    "id": "xk3_cvzKQcab"
   },
   "source": [
    "## **Part 1: E91 Protocol for One Qubit**\n",
    "---\n",
    "\n",
    "In this section, we will build up the E91 protocol as follows:\n",
    "\n",
    "**Part 1.1**: Phase 1 - Alice Makes Choices and Measures\n",
    "\n",
    "**Part 1.2**: Phase 2 - Bob Makes Choices and Measures\n",
    "\n",
    "**Part 1.3**: Phase 3 - Alice and Bob Compare Choices\n",
    "\n",
    "\n",
    "<br>\n",
    "\n",
    "**Disclaimer**: This section is about building up the components and not about understanding the protocol yet. Realistically, the protocol would never be run for just one qubit and some of the results may even be hard to understand in this case. So, do not worry if you are unsure what results to expect by the end of this part and instead focus on implementing each step according to the instructions. In Parts 2 - 3, you will begin to understand the protocol much more in depth."
   ]
  },
  {
   "cell_type": "markdown",
   "metadata": {
    "id": "H3gNn5rGTE11"
   },
   "source": [
    "---\n",
    "### **Part 1.1: Phase 1 - Makes Choices and Measures**\n",
    "\n",
    "\n",
    "In this section, we will implement the first 3 steps of the protocol:\n",
    "\n",
    "> **Step 1**: Alice and Bob share a Bell pair.\n",
    ">\n",
    "> **Step 2**: Alice randomly chooses 1 of 3 circuits to apply to each of her qubits.\n",
    ">\n",
    "> **Step 3**: Alice measures her qubits."
   ]
  },
  {
   "cell_type": "markdown",
   "metadata": {
    "id": "Oo95KzOmTxBe"
   },
   "source": [
    "#### **Step #1: Alice and Bob share a Bell pair.**\n",
    "\n",
    "We will use the Bell pair: $|\\beta_{11}\\rangle = \\frac{1}{\\sqrt 2}(|01\\rangle - |10\\rangle) = X_0 Z_0 |\\beta_{00}\\rangle$. We will consider $q_0$ as Alice's qubit and $q_1$ as Bob's qubit for the remainder of the protocol.\n",
    "\n",
    "**Complete the code below to prepare this state.**\n",
    "\n",
    "<br>\n",
    "\n",
    "**NOTE**: The $|\\beta_{00}\\rangle$ state would work too, but $|\\beta_{11}\\rangle$ happens to simplify the circuits in the end."
   ]
  },
  {
   "cell_type": "code",
   "execution_count": 2,
   "metadata": {
    "id": "opU27BQmSyPA"
   },
   "outputs": [
    {
     "data": {
      "image/png": "[encoded data removed]",
      "text/plain": [
       "<Figure size 454.517x284.278 with 1 Axes>"
      ]
     },
     "execution_count": 2,
     "metadata": {},
     "output_type": "execute_result"
    }
   ],
   "source": [
    "alice_bob_qubits = QuantumCircuit(2, 2) # Creating the quantum circuit with 2 qubits and 2 classical bits.\n",
    "\n",
    "alice_bob_qubits.h(0) # apply hadamard gate to qubit 0 (Alice's qubit), putting it into a superposition of |0> and |1>.\n",
    "alice_bob_qubits.cx(0,1) # apply CNOT gate to qubit 0 and 1, entangling them into a Bell state.\n",
    "alice_bob_qubits.rz(math.pi/4,0) # apply a rotation around the z-axis to qubit 0 by an angle of 𝜋/4. \n",
    "alice_bob_qubits.h(0) # apply another hadamard gate to qubit 0 (Alice's qubit), which completes the creation of the Bell pair.\n",
    "\n",
    "alice_bob_qubits.draw()"
   ]
  },
  {
   "cell_type": "markdown",
   "metadata": {
    "id": "t5Iqa_VcTGwH"
   },
   "source": [
    "#### **Step #2: Alice randomly chooses 1 of 3 circuits to apply to each of her qubits.**\n",
    "\n",
    "The E91 protocol introduces a slightly different set of options for Alice. They all follow the same format: Rotate around the Z axis by some amount and apply an H gate.  \n",
    "\n",
    "In this step, we will define the three circuits and choose one at random as follows:\n",
    "\n",
    "1. Define the 0 Rotation and H Gate Option.\n",
    "2. Define the $\\frac{\\pi}{4}$ (45°) Rotation and H Gate Option.\n",
    "3. Define the $\\frac{\\pi}{2}$ (90°) Rotation and H Gate Option.\n",
    "4. Alice chooses at random.\n",
    "\n",
    "<br>\n",
    "\n",
    "**NOTE**: There is nothing special about these exact three choices from a quantum mechanical standpoint. But, they are the choices originally proposed by Ekert as the rotation gates are relatively simple to understand when looked at on a Bloch sphere. At the end of the day, if they were good enough for him then they're good enough for us!"
   ]
  },
  {
   "cell_type": "markdown",
   "metadata": {
    "id": "Qk8w7ZeSUFTz"
   },
   "source": [
    "##### **1. Define the 0 Rotation and H Gate Option.**\n",
    "\n",
    "**Run the code below to create this circuit with 1 qubit and 1 classical bit for Alice's measurement.**"
   ]
  },
  {
   "cell_type": "code",
   "execution_count": 3,
   "metadata": {
    "id": "GshPMcS-UZeR"
   },
   "outputs": [
    {
     "data": {
      "text/plain": [
       "<qiskit.circuit.instructionset.InstructionSet at 0x7fa57e9336d0>"
      ]
     },
     "execution_count": 3,
     "metadata": {},
     "output_type": "execute_result"
    }
   ],
   "source": [
    "alice_option_1 = QuantumCircuit(1, 1) # creating the first quantum circuit with 1 qubit and 1 classical bit.\n",
    "\n",
    "alice_option_1.h(0) # Apply Hadamard gate to first qubit (qubit 0) putting it into superposition state.\n",
    "\n",
    "alice_option_1.measure(0, 0) # measurement operation to the circuit to measure the state of the first qubit storing the result in the first classical bit (bit 0)."
   ]
  },
  {
   "cell_type": "markdown",
   "metadata": {
    "id": "tbn5MxjxULOC"
   },
   "source": [
    "##### **2. Define the $\\frac{\\pi}{4}$ (45°) Rotation and H Gate Option.**"
   ]
  },
  {
   "cell_type": "code",
   "execution_count": 4,
   "metadata": {
    "id": "FO-vXCdDUi01"
   },
   "outputs": [
    {
     "data": {
      "text/plain": [
       "<qiskit.circuit.instructionset.InstructionSet at 0x7fa57e7f85b0>"
      ]
     },
     "execution_count": 4,
     "metadata": {},
     "output_type": "execute_result"
    }
   ],
   "source": [
    "alice_option_2 = QuantumCircuit(1, 1)\n",
    "\n",
    "alice_option_2.rz(math.pi/4,0) # apply rotation about the z-axis to the first qubit by an angle of π/4 radians which is equal to a 45 degree rotation in the x-y plane.\n",
    "\n",
    "alice_option_2.h(0) # apply Hadamard gate to first qubit.\n",
    "\n",
    "alice_option_2.measure(0, 0) # measure the state, collapsing the superposition to either |0> or |1>"
   ]
  },
  {
   "cell_type": "markdown",
   "metadata": {
    "id": "LE81olyEUQCX"
   },
   "source": [
    "##### **3. Define the $\\frac{\\pi}{2}$ (90°) Rotation and H Gate Option.**"
   ]
  },
  {
   "cell_type": "code",
   "execution_count": 5,
   "metadata": {
    "id": "SQwFQytmJZs_"
   },
   "outputs": [
    {
     "data": {
      "text/plain": [
       "<qiskit.circuit.instructionset.InstructionSet at 0x7fa57e7f8790>"
      ]
     },
     "execution_count": 5,
     "metadata": {},
     "output_type": "execute_result"
    }
   ],
   "source": [
    "alice_option_3 = QuantumCircuit(1, 1)\n",
    "\n",
    "alice_option_3.rz(math.pi/2, 0) # apply rotation around the z-axis to qubit 0 by an angle of π/2 radians which is equivalent to a 90 degree rotation in the x-y plane.\n",
    "\n",
    "alice_option_3.h(0) # apply Hadamard gate to first qubit putting it into a superposition state.\n",
    "\n",
    "alice_option_3.measure(0, 0)\n",
    "\n"
   ]
  },
  {
   "cell_type": "markdown",
   "metadata": {
    "id": "omYwXBSVUWVC"
   },
   "source": [
    "##### **4. Alice chooses at random.**"
   ]
  },
  {
   "cell_type": "code",
   "execution_count": 6,
   "metadata": {
    "id": "bas-oxl6Ujf8"
   },
   "outputs": [
    {
     "data": {
      "image/png": "[encoded data removed]",
      "text/plain": [
       "<Figure size 269.064x200.667 with 1 Axes>"
      ]
     },
     "execution_count": 6,
     "metadata": {},
     "output_type": "execute_result"
    }
   ],
   "source": [
    "alice_options = [alice_option_1, alice_option_2, alice_option_3] # creates a list named alice_options that contains the three circuits to choose from.\n",
    "alice_choice = random.randint(0, 2) # chooses a random integer between 0 and 2 storing the integer as alice_choice.\n",
    "\n",
    "alice_circuit = alice_options[alice_choice] # stores the chosen circuit in the variable alice_circuit\n",
    "alice_circuit.draw()"
   ]
  },
  {
   "cell_type": "markdown",
   "metadata": {
    "id": "Dau0AnKQXtWd"
   },
   "source": [
    "#### **Step 3: Alice measures her qubits.**\n",
    "\n",
    "Lastly, Alice must use her randomly chosen circuit to measure her half of the Bell pair.\n",
    "\n",
    "\n",
    "**Run the code below to perform this step.**"
   ]
  },
  {
   "cell_type": "code",
   "execution_count": 7,
   "metadata": {
    "id": "P7Rz7bMQYcO5"
   },
   "outputs": [
    {
     "data": {
      "image/png": "[encoded data removed]",
      "text/plain": [
       "<Figure size 621.739x284.278 with 1 Axes>"
      ]
     },
     "execution_count": 7,
     "metadata": {},
     "output_type": "execute_result"
    }
   ],
   "source": [
    "alice_bob_qubits = alice_bob_qubits.compose(alice_circuit, qubits = 0, clbits = 0) # updates the alice_bob_qubits circuit by adding the circuit alice_circuit. the \"compose()\" function is used to combine the two circuits, and the \"qubits\" and \"clbits\" arguments are used to specify which qubits and classical bits to apply the circuit to.\n",
    "\n",
    "alice_bob_qubits.draw()"
   ]
  },
  {
   "cell_type": "markdown",
   "metadata": {
    "id": "NbbazwYgYy6-"
   },
   "source": [
    "---\n",
    "\n",
    "<center>\n",
    "\n",
    "### **End of Phase 1**\n",
    "\n",
    "</center>\n",
    "\n",
    "---"
   ]
  },
  {
   "cell_type": "markdown",
   "metadata": {
    "id": "SzdGCW4cZBU_"
   },
   "source": [
    "---\n",
    "### **Part 1.2:  Phase 2 - Makes Choices and Measures**\n",
    "\n",
    "\n",
    "In this section, we will implement the next 2 steps of the protocol:\n",
    "\n",
    "> **Step 4**: Bob randomly chooses 1 or 3 circuits to apply to each of his qubits.\n",
    ">\n",
    "> **Step 5**: Bob measures his qubits."
   ]
  },
  {
   "cell_type": "markdown",
   "metadata": {
    "id": "VGcP2y7BZjfv"
   },
   "source": [
    "#### **Step #4: Bob randomly chooses 1 or 3 circuits to apply to each of his qubits.**\n",
    "\n",
    "In this step, Bob chooses from his own set of circuits. Although they are of the same general form as Alice's (Z rotation and then H gate), they are different. As such, perform this step as follows:\n",
    "\n",
    "1. Define the $\\frac{\\pi}{4}$ (45°) Rotation and H Gate Option.\n",
    "2. Define the $\\frac{\\pi}{2}$ (90°) Rotation and H Gate Option.\n",
    "3. Define the $\\frac{3\\pi}{4}$ (135°) Rotation and H Gate Option.\n",
    "4. Bob chooses at random."
   ]
  },
  {
   "cell_type": "markdown",
   "metadata": {
    "id": "mgO55p5ZKAch"
   },
   "source": [
    "##### **1. Define the $\\frac{\\pi}{4}$ (45°) Rotation and H Gate Option.**"
   ]
  },
  {
   "cell_type": "code",
   "execution_count": 8,
   "metadata": {
    "id": "MM55IQMjLG66"
   },
   "outputs": [
    {
     "data": {
      "text/plain": [
       "<qiskit.circuit.instructionset.InstructionSet at 0x7fa57e6f1ae0>"
      ]
     },
     "execution_count": 8,
     "metadata": {},
     "output_type": "execute_result"
    }
   ],
   "source": [
    "bob_option_1 = QuantumCircuit(1, 1)\n",
    "\n",
    "bob_option_1.rz(math.pi/4,0) # defining the 45 degree rotation around the z-axis\n",
    "bob_option_1.h(0) # apply the H gate to qubit 0\n",
    "\n",
    "bob_option_1.measure(0, 0)"
   ]
  },
  {
   "cell_type": "markdown",
   "metadata": {
    "id": "7WOmGwvWKAci"
   },
   "source": [
    "##### **2. Define the $\\frac{\\pi}{2}$ (90°) Rotation and H Gate Option.**"
   ]
  },
  {
   "cell_type": "code",
   "execution_count": 9,
   "metadata": {
    "id": "jYnDj11eKAci"
   },
   "outputs": [
    {
     "data": {
      "text/plain": [
       "<qiskit.circuit.instructionset.InstructionSet at 0x7fa57e6f3880>"
      ]
     },
     "execution_count": 9,
     "metadata": {},
     "output_type": "execute_result"
    }
   ],
   "source": [
    "bob_option_2 = QuantumCircuit(1, 1)\n",
    "\n",
    "bob_option_2.rz(math.pi/2, 0) # math.pi/2 is used to specify a 90-degree rotation around the Z-axis\n",
    "bob_option_2.h(0)\n",
    "\n",
    "bob_option_2.measure(0, 0)\n"
   ]
  },
  {
   "cell_type": "markdown",
   "metadata": {
    "id": "-XnAjZTGKAcj"
   },
   "source": [
    "##### **3. Define the $\\frac{3\\pi}{4}$ (135°) Rotation and H Gate Option.**"
   ]
  },
  {
   "cell_type": "code",
   "execution_count": 10,
   "metadata": {
    "id": "wsg3DldfLf6K"
   },
   "outputs": [
    {
     "data": {
      "text/plain": [
       "<qiskit.circuit.instructionset.InstructionSet at 0x7fa57e6f19c0>"
      ]
     },
     "execution_count": 10,
     "metadata": {},
     "output_type": "execute_result"
    }
   ],
   "source": [
    "bob_option_3 = QuantumCircuit(1, 1)\n",
    "\n",
    "bob_option_3.rz(3*math.pi/4,0) # apply 135 degree rotation \n",
    "bob_option_3.h(0)\n",
    "\n",
    "bob_option_3.measure(0,0)"
   ]
  },
  {
   "cell_type": "markdown",
   "metadata": {
    "id": "mG6zrlvOZjfw"
   },
   "source": [
    "##### **4. Bob chooses at random.**"
   ]
  },
  {
   "cell_type": "code",
   "execution_count": 11,
   "metadata": {
    "id": "74l8JRWQilvy"
   },
   "outputs": [
    {
     "data": {
      "image/png": "[encoded data removed]",
      "text/plain": [
       "<Figure size 352.675x200.667 with 1 Axes>"
      ]
     },
     "execution_count": 11,
     "metadata": {},
     "output_type": "execute_result"
    }
   ],
   "source": [
    "bob_options = [bob_option_1, bob_option_2, bob_option_3] # creating the list called bob_options with the three circuits to choose from\n",
    "bob_choice = random.randint(0, 2) # bob chooses a random integer from 0 to 2 indicating a circuit choice\n",
    "\n",
    "bob_circuit = bob_options[bob_choice] # stores bob's choice of circuit in the variable bob_circuit\n",
    "bob_circuit.draw()"
   ]
  },
  {
   "cell_type": "markdown",
   "metadata": {
    "id": "Zl0UHq-v0Jjw"
   },
   "source": [
    "#### **Step 3: Bob measures his qubits.**\n",
    "\n",
    "Lastly, Bob must use his randomly chosen circuit to measure his half of the Bell pair.\n",
    "\n",
    "\n",
    "**Run the code below to perform this step.**"
   ]
  },
  {
   "cell_type": "code",
   "execution_count": 12,
   "metadata": {
    "id": "0xlNJhrs0Jjx"
   },
   "outputs": [
    {
     "data": {
      "image/png": "[encoded data removed]",
      "text/plain": [
       "<Figure size 621.739x284.278 with 1 Axes>"
      ]
     },
     "execution_count": 12,
     "metadata": {},
     "output_type": "execute_result"
    }
   ],
   "source": [
    "alice_bob_qubits = alice_bob_qubits.compose(bob_circuit, qubits = 1, clbits = 1)\n",
    "\n",
    "alice_bob_qubits.draw()"
   ]
  },
  {
   "cell_type": "markdown",
   "metadata": {
    "id": "1oO_ztF4cbS8"
   },
   "source": [
    "#### **Simulate the Measurements Before Moving On.**\n",
    "\n",
    "##### **Run the code below to simulate Alice's and Bob's measurement results.**\n",
    "\n",
    "<br>\n",
    "\n",
    "\n",
    "**Notice**: In the original state that Alice and Bob shared, $|\\beta_{11} \\rangle = \\frac{1}{\\sqrt 2}(|01\\rangle - |10\\rangle)$, their bits always had to be the opposite of each other. Unless they happened to rotate the qubits by the same amount, this is no longer true!"
   ]
  },
  {
   "cell_type": "code",
   "execution_count": 13,
   "metadata": {
    "id": "JrE--nr8fQiS"
   },
   "outputs": [
    {
     "data": {
      "image/png": "[encoded data removed]",
      "text/plain": [
       "<Figure size 700x500 with 1 Axes>"
      ]
     },
     "execution_count": 13,
     "metadata": {},
     "output_type": "execute_result"
    }
   ],
   "source": [
    "backend = Aer.get_backend('qasm_simulator')\n",
    "job = execute(alice_bob_qubits, backend = backend, shots = 1024) # simulate the quantum circuit with 1024 shots\n",
    "\n",
    "\n",
    "result = job.result()\n",
    "counts = result.get_counts()\n",
    "\n",
    "bits = random.choices(list(counts.keys()), weights = counts.values(), k = 1)[0]\n",
    "alice_bits = bits[0]\n",
    "bob_bits = bits[1]\n",
    "\n",
    "\n",
    "plot_histogram(counts)"
   ]
  },
  {
   "cell_type": "markdown",
   "metadata": {
    "id": "VKSfwHfzc0ME"
   },
   "source": [
    "---\n",
    "\n",
    "<center>\n",
    "\n",
    "### **End of Phase 2**\n",
    "\n",
    "</center>\n",
    "\n",
    "---"
   ]
  },
  {
   "cell_type": "markdown",
   "metadata": {
    "id": "Ec_pdfkvc3P4"
   },
   "source": [
    "---\n",
    "### **Part 1.3: Phase 3 - Alice and Bob Compare Choices**\n",
    "\n",
    "\n",
    "In this section, we will implement the last step of the protocol:\n",
    "\n",
    "> **Step 6**: Alice and Bob compare choices, sorting into two groups:\n",
    "1. *Matching choices*: Alice and Bob each create their own key from these.\n",
    "1. *Mismatching choices*: Alice and Bob tell each other their measurement results and test how entangled they were. If Eve has intercepted, the entanglement between Alice and Bob will be less than expected."
   ]
  },
  {
   "cell_type": "markdown",
   "metadata": {
    "id": "kD_bf1yTdHB-"
   },
   "source": [
    "#### **Step 6: Alice and Bob compare choices.**\n",
    "\n",
    "Very importantly in this step, Alice and Bob are comparing the **circuits themselves**. So \"matching choices\" consist of:\n",
    "\n",
    "* Alice's 2nd Option and Bob's 1st Option, both $\\frac{\\pi}{4}$ rotations.\n",
    "* Alice's 3rd Option and Bob's 2nd Option, both $\\frac{\\pi}{2}$ rotations.\n",
    "\n",
    "<br>\n",
    "\n",
    "\n",
    "**Run the code below to perform this step.**\n",
    "\n",
    "\n",
    "<br>\n",
    "\n",
    "**NOTE**: Since we are only dealing with one qubit and no Eve interceptions, this will not produce particularly interesting results. The main goal here is for you to see how this step works in general so that you can understand it further in the following sections."
   ]
  },
  {
   "cell_type": "code",
   "execution_count": 14,
   "metadata": {
    "id": "Uw8Wo57Cfi_l"
   },
   "outputs": [
    {
     "name": "stdout",
     "output_type": "stream",
     "text": [
      "Entanglement of Mismatched Choices: 1.0\n",
      "Alice's Key: []\n",
      "Bob's Key: []\n"
     ]
    }
   ],
   "source": [
    "alice_key = []\n",
    "alice_mismatched_choices = []\n",
    "alice_mismatched_choice_bits = []\n",
    "\n",
    "bob_key = []\n",
    "bob_mismatched_choices = []\n",
    "bob_mismatched_choice_bits = []\n",
    "\n",
    "\n",
    "# MATCHING CHOICE\n",
    "if alice_options[alice_choice] == bob_options[bob_choice]:\n",
    "  alice_key += [int(alice_bits[0])]\n",
    "  bob_key += [1 - int(bob_bits[0])]\n",
    "\n",
    "# MISMATCHING CHOICE\n",
    "else:\n",
    "  alice_mismatched_choices += [alice_choice]\n",
    "  bob_mismatched_choices += [bob_choice]\n",
    "\n",
    "  alice_mismatched_choice_bits += [alice_bits[0]]\n",
    "  bob_mismatched_choice_bits += [bob_bits[0]]\n",
    "\n",
    "\n",
    "entanglement = entanglement_amount(alice_mismatched_choices, alice_mismatched_choice_bits, bob_mismatched_choices, bob_mismatched_choice_bits)\n",
    "print(\"Entanglement of Mismatched Choices: \" + str(entanglement))\n",
    "print(\"Alice's Key: \" + str(alice_key))\n",
    "print(\"Bob's Key: \" + str(bob_key))"
   ]
  },
  {
   "cell_type": "markdown",
   "metadata": {
    "id": "YgacKSsTXMGe"
   },
   "source": [
    "**Before continuing**, review your work here and make sure you understand why the following happens:\n",
    "\n",
    "1. If Alice and Bob make the same choice (apply the same circuit), then they keep the bit for their key.\n",
    "1. Furthermore, when Alice and Bob keep a bit for their key, Bob flips his measurement result as shown in the code by `1 - int(bob_bits[0])`.\n",
    "3. Could Alice flip her measurement result instead?"
   ]
  },
  {
   "cell_type": "markdown",
   "metadata": {
    "id": "tO6Nf3OFwEYt"
   },
   "source": [
    "---\n",
    "\n",
    "<center>\n",
    "\n",
    "### **End of the Protocol**\n",
    "\n",
    "</center>\n",
    "\n",
    "---"
   ]
  },
  {
   "cell_type": "markdown",
   "metadata": {
    "id": "KpJUt87X2oYh"
   },
   "source": [
    "## **Part 2: E91 Protocol for Multiple Qubits**\n",
    "---\n",
    "\n",
    "In this section, we will apply the components you developed in Part 1 to the full E91 protocol."
   ]
  },
  {
   "cell_type": "markdown",
   "metadata": {
    "id": "rzE0-ex32zla"
   },
   "source": [
    "### **Exercise #1**\n",
    "\n",
    "To make building the multiple qubit version of E91 easier, complete the code below with your solutions from above to see the protocol in full for one qubit.\n",
    "\n",
    "<br>\n",
    "\n",
    "**NOTE**: This is only including the key pieces that may need to be redefined for each run. For example, we do not need to redefine Alice's and Bob's different circuit options every time, but we do need to randomly pick a new one every time."
   ]
  },
  {
   "cell_type": "code",
   "execution_count": 15,
   "metadata": {
    "id": "JegTcd1m55Ox"
   },
   "outputs": [
    {
     "name": "stdout",
     "output_type": "stream",
     "text": [
      "Entanglement of Mismatched Choices: 0\n",
      "Alice's Key: []\n",
      "Bob's Key: []\n"
     ]
    }
   ],
   "source": [
    "#========\n",
    "# STEP 1\n",
    "#========\n",
    "alice_bob_qubits = QuantumCircuit(2, 2) # Creating the quantum circuit with 2 qubits and 2 classical bits.\n",
    "\n",
    "alice_bob_qubits.h(0) # apply hadamard gate to qubit 0 (Alice's qubit), putting it into a superposition of |0> and |1>.\n",
    "alice_bob_qubits.cx(0,1) # apply CNOT gate to qubit 0 and 1, entangling them into a Bell state.\n",
    "alice_bob_qubits.rz(math.pi/4,0) # apply a rotation around the z-axis to qubit 0 by an angle of 𝜋/4. \n",
    "alice_bob_qubits.h(0) # apply another hadamard gate to qubit 0 (Alice's qubit), which completes the creation of the Bell pair.\n",
    "\n",
    "\n",
    "#========\n",
    "# STEP 2\n",
    "#========\n",
    "alice_choice = random.randint(0, 2) # chooses a random integer between 0 and 2 storing the integer as alice_choice.\n",
    "alice_circuit = alice_options[alice_choice] # stores the chosen circuit in the variable alice_circuit\n",
    "\n",
    "\n",
    "\n",
    "#========\n",
    "# STEP 3\n",
    "#========\n",
    "alice_bob_qubits = alice_bob_qubits.compose(alice_circuit, qubits = 0, clbits = 0) # updates the alice_bob_qubits circuit by adding the circuit alice_circuit. the \"compose()\" function is used to combine the two circuits, and the \"qubits\" and \"clbits\" arguments are used to specify which qubits and classical bits to apply the circuit to.\n",
    "\n",
    "\n",
    "#========\n",
    "# STEP 4\n",
    "#========\n",
    "bob_choice = random.randint(0, 2) # bob chooses a random integer from 0 to 2 indicating a circuit choice\n",
    "bob_circuit = bob_options[bob_choice] # stores bob's choice of circuit in the variable bob_circuit\n",
    "\n",
    "\n",
    "#========\n",
    "# STEP 5\n",
    "#========\n",
    "alice_bob_qubits = alice_bob_qubits.compose(bob_circuit, qubits = 1, clbits = 1)\n",
    "\n",
    "\n",
    "#======================\n",
    "# SIMULATE THE CIRCUIT\n",
    "#======================\n",
    "backend = Aer.get_backend('qasm_simulator')\n",
    "job = execute(alice_bob_qubits, backend = backend, shots = 1024)\n",
    "result = job.result()\n",
    "counts = result.get_counts()\n",
    "\n",
    "bits = random.choices(list(counts.keys()), weights = counts.values(), k = 1)[0]\n",
    "alice_bits = bits[0]\n",
    "bob_bits = bits[1]\n",
    "plot_histogram(counts)\n",
    "\n",
    "\n",
    "#========\n",
    "# STEP 6\n",
    "#========\n",
    "alice_key = []\n",
    "alice_mismatched_choices = []\n",
    "alice_mismatched_choice_bits = []\n",
    "\n",
    "bob_key = []\n",
    "bob_mismatched_choices = []\n",
    "bob_mismatched_choice_bits = []\n",
    "\n",
    "\n",
    "# MATCHING CHOICE\n",
    "if alice_options[alice_choice] == bob_options[bob_choice]:\n",
    "  alice_key += [int(alice_bits[0])]# IS THIS LINE CORRECT?\n",
    "  bob_key += [int(bob_bits[1])]# IS THIS LINE CORRECT?\n",
    "\n",
    "# MISMATCHING CHOICE\n",
    "else:\n",
    "  alice_mismatched_choices += [alice_choice]# IS THIS LINE CORRECT?\n",
    "  bob_mismatched_choices += [bob_choice]# IS THIS LINE CORRECT?\n",
    "\n",
    "  alice_mismatched_choice_bits += [alice_bits[0]]# IS THIS LINE CORRECT?\n",
    "  bob_mismatched_choice_bits += [bob_bits[0]]# IS THIS LINE CORRECT?\n",
    "\n",
    "\n",
    "entanglement = entanglement_amount(alice_mismatched_choices, alice_mismatched_choice_bits, bob_mismatched_choices, bob_mismatched_choice_bits)\n",
    "print(\"Entanglement of Mismatched Choices: \" + str(entanglement))\n",
    "print(\"Alice's Key: \" + str(alice_key))\n",
    "print(\"Bob's Key: \" + str(bob_key))"
   ]
  },
  {
   "cell_type": "markdown",
   "metadata": {
    "id": "K4RPsrTP6ufB"
   },
   "source": [
    "### **Exercise #2**\n",
    "\n",
    "Modify each step to work for $n$ qubits instead of just $1$.\n",
    "\n",
    "**Run the code below to define $n$ for this exercise.**"
   ]
  },
  {
   "cell_type": "code",
   "execution_count": 16,
   "metadata": {
    "id": "HXGdgHsU8Nz3"
   },
   "outputs": [],
   "source": [
    "n = 100"
   ]
  },
  {
   "cell_type": "markdown",
   "metadata": {
    "id": "-7efdfj48O35"
   },
   "source": [
    "#### **Step 1: Alice and Bob share a Bell pair.**\n",
    "\n",
    "Now, they must share $n$ Bell pairs. Complete the code below to create $n$ circuits that each start by creating the $|\\beta_{11}\\rangle$ state."
   ]
  },
  {
   "cell_type": "code",
   "execution_count": 17,
   "metadata": {
    "id": "5mDmhbQ18SW4"
   },
   "outputs": [],
   "source": [
    "alice_bob_qubits = []\n",
    "\n",
    "for i in range(n):\n",
    "    alice_bob_qubits += [QuantumCircuit(2, 2)] # Creating the quantum circuit with 2 qubits and 2 classical bits.\n",
    "\n",
    "    alice_bob_qubits[i].h(0)\n",
    "    alice_bob_qubits[i].cx(0, 1)\n",
    "    alice_bob_qubits[i].rz(math.pi/4,0)\n",
    "    alice_bob_qubits[i].h(0)\n",
    "\n"
   ]
  },
  {
   "cell_type": "markdown",
   "metadata": {
    "id": "BOwiBZLk8YIE"
   },
   "source": [
    "#### **Step 2: Alice randomly chooses 1 of 3 circuits to apply to each of her qubits.**"
   ]
  },
  {
   "cell_type": "code",
   "execution_count": 18,
   "metadata": {
    "id": "ISNVndGU8YIF"
   },
   "outputs": [],
   "source": [
    "alice_choices = []\n",
    "alice_circuits = []\n",
    "\n",
    "for i in range(n):\n",
    "  alice_choice = random.randint(0,2)\n",
    "  alice_choices += [alice_choice]\n",
    "  alice_circuits += [alice_options[alice_choice]]\n",
    "      \n",
    "      "
   ]
  },
  {
   "cell_type": "markdown",
   "metadata": {
    "id": "UbGW2bgT8YPC"
   },
   "source": [
    "#### **Step 3: Alice measures her qubits.**"
   ]
  },
  {
   "cell_type": "code",
   "execution_count": 19,
   "metadata": {
    "id": "mj-9_XOG8YPD"
   },
   "outputs": [],
   "source": [
    "\n",
    "for i in range(n):\n",
    "  alice_bob_qubits[i] = alice_bob_qubits[i].compose(alice_circuits[i], qubits = [0], clbits = [0])\n",
    "\n"
   ]
  },
  {
   "cell_type": "markdown",
   "metadata": {
    "id": "M8WEFwxI8Yoy"
   },
   "source": [
    "#### **Step 4: Bob randomly chooses 1 of 3 circuits to apply to each of his qubits.**"
   ]
  },
  {
   "cell_type": "code",
   "execution_count": 20,
   "metadata": {
    "id": "OYSeBtSM8Yoy"
   },
   "outputs": [],
   "source": [
    "bob_choices = []\n",
    "bob_circuits = []\n",
    "\n",
    "for i in range(n):\n",
    "  bob_choice = random.randint(0,2)\n",
    "  bob_choices += [bob_choice]\n",
    "  bob_circuits += [bob_options[bob_choice]]"
   ]
  },
  {
   "cell_type": "markdown",
   "metadata": {
    "id": "pGroKyGK8Yzt"
   },
   "source": [
    "#### **Step 5: Bob measures his qubits.**"
   ]
  },
  {
   "cell_type": "code",
   "execution_count": 21,
   "metadata": {
    "id": "AAEJ57m38Yzt"
   },
   "outputs": [],
   "source": [
    "for i in range(n):\n",
    "  alice_bob_qubits[i].measure = alice_bob_qubits[i].compose(bob_circuits[i], qubits = 0, clbits = 0)"
   ]
  },
  {
   "cell_type": "markdown",
   "metadata": {
    "id": "B25lN20283Fc"
   },
   "source": [
    "#### **Simulate the Circuit**"
   ]
  },
  {
   "cell_type": "code",
   "execution_count": 22,
   "metadata": {
    "tags": []
   },
   "outputs": [],
   "source": [
    "backend = Aer.get_backend('qasm_simulator')\n",
    "job = execute(alice_bob_qubits, backend = backend, shots = 1)\n",
    "result = job.result()\n",
    "counts = result.get_counts()\n",
    "\n",
    "alice_bits = []\n",
    "bob_bits = []\n",
    "for i in range(n):\n",
    "  bits = list(counts[i].keys())[0]\n",
    "  alice_bits += [bits[0]]\n",
    "  bob_bits += [bits[1]]"
   ]
  },
  {
   "cell_type": "markdown",
   "metadata": {
    "id": "xpw0RvMo8d37"
   },
   "source": [
    "#### **Step 6: Alice and Bob compare choices.**"
   ]
  },
  {
   "cell_type": "code",
   "execution_count": 23,
   "metadata": {
    "id": "__EWKHzbSTl1"
   },
   "outputs": [
    {
     "name": "stdout",
     "output_type": "stream",
     "text": [
      "Entanglement of Mismatched Choices: -0.38498168498168506\n",
      "Alice's Key: [0, 0, 0, 0, 0, 0, 0, 0, 0, 0, 0, 0, 0, 0, 0, 0, 0, 0, 0, 0, 0, 0, 0]\n",
      "Bob's Key: [1, 0, 1, 1, 1, 0, 0, 0, 0, 1, 0, 1, 0, 0, 1, 1, 1, 1, 0, 1, 0, 1, 0]\n",
      "Key Length: 23\n",
      "Number of Disagreeing Key Bits: 12\n"
     ]
    }
   ],
   "source": [
    "alice_key = []\n",
    "alice_mismatched_choices = []\n",
    "alice_mismatched_choice_bits = []\n",
    "\n",
    "bob_key = []\n",
    "bob_mismatched_choices = []\n",
    "bob_mismatched_choice_bits = []\n",
    "\n",
    "for i in range(n): #\n",
    "\n",
    "  # MATCHING CHOICE\n",
    "  if alice_options[alice_choices[i]] == bob_options[bob_choices[i]]:# \n",
    "    alice_key += [int(alice_bits[i])]\n",
    "    bob_key += [1 - int(bob_bits[i])]# \n",
    "\n",
    "  # MISMATCHING CHOICE\n",
    "  else:\n",
    "    alice_mismatched_choices += [alice_choices[i]]\n",
    "    bob_mismatched_choices += [bob_choices[i]] # \n",
    "\n",
    "    alice_mismatched_choice_bits += [alice_bits[i]] # \n",
    "    bob_mismatched_choice_bits +=  [bob_bits[i]]# \n",
    "\n",
    "\n",
    "entanglement = entanglement_amount(alice_mismatched_choices, alice_mismatched_choice_bits, bob_mismatched_choices, bob_mismatched_choice_bits)\n",
    "print(\"Entanglement of Mismatched Choices: \" + str(entanglement))\n",
    "print(\"Alice's Key: \" + str(alice_key))\n",
    "print(\"Bob's Key: \" + str(bob_key))\n",
    "print(\"Key Length: \" + str(len(bob_key)))\n",
    "print(\"Number of Disagreeing Key Bits: \" + str(sum([alice_key[i] != bob_key[i] for i in range(len(alice_key))])))"
   ]
  },
  {
   "cell_type": "markdown",
   "metadata": {
    "id": "f4DPuFgxfTqU"
   },
   "source": [
    "### **Exercise #3**\n",
    "\n",
    "Similar to Exercise #1, put all the code for the $n$ qubit E91 protocol into one cell below."
   ]
  },
  {
   "cell_type": "code",
   "execution_count": 24,
   "metadata": {
    "id": "ctRVZHrRffZ4"
   },
   "outputs": [
    {
     "name": "stdout",
     "output_type": "stream",
     "text": [
      "Entanglement of Mismatched Choices: -0.5166666666666666\n",
      "Alice's Key: [0, 0, 0, 0, 0, 0, 0, 0, 0, 0, 0, 0, 0, 0, 0, 0, 0, 0, 0, 0, 0, 0]\n",
      "Bob's Key: [0, 1, 0, 1, 1, 1, 0, 1, 1, 1, 1, 1, 1, 1, 0, 1, 1, 1, 0, 1, 1, 1]\n",
      "Key Length: 22\n",
      "Number of Disagreeing Key Bits: 17\n"
     ]
    }
   ],
   "source": [
    "#========\n",
    "# STEP 1\n",
    "#========\n",
    "n = 100\n",
    "\n",
    "alice_bob_qubits = []\n",
    "\n",
    "for i in range(n):\n",
    "    alice_bob_qubits += [QuantumCircuit(2, 2)] # Creating the quantum circuit with 2 qubits and 2 classical bits.\n",
    "\n",
    "    alice_bob_qubits[i].h(0)\n",
    "    alice_bob_qubits[i].cx(0, 1)\n",
    "    alice_bob_qubits[i].rz(math.pi/4,0)\n",
    "    alice_bob_qubits[i].h(0)\n",
    "\n",
    "\n",
    "#========\n",
    "# STEP 2\n",
    "#========\n",
    "alice_choices = []\n",
    "alice_circuits = []\n",
    "\n",
    "for i in range(n):\n",
    "  alice_choice = random.randint(0,2)\n",
    "  alice_choices += [alice_choice]\n",
    "  alice_circuits += [alice_options[alice_choice]]\n",
    "      \n",
    "\n",
    "#========\n",
    "# STEP 3\n",
    "#========\n",
    "for i in range(n):\n",
    "  alice_bob_qubits[i] = alice_bob_qubits[i].compose(alice_circuits[i], qubits = [0], clbits = [0])\n",
    "\n",
    "#========\n",
    "# STEP 4\n",
    "#========\n",
    "bob_choices = []\n",
    "bob_circuits = []\n",
    "\n",
    "for i in range(n):\n",
    "  bob_choice = random.randint(0,2)\n",
    "  bob_choices += [bob_choice]\n",
    "  bob_circuits += [bob_options[bob_choice]]\n",
    "\n",
    "\n",
    "#========\n",
    "# STEP 5\n",
    "#========\n",
    "for i in range(n):\n",
    "  alice_bob_qubits[i].measure = alice_bob_qubits[i].compose(bob_circuits[i], qubits = 0, clbits = 0)\n",
    "#======================\n",
    "# SIMULATE THE CIRCUIT\n",
    "#======================\n",
    "backend = Aer.get_backend('qasm_simulator')\n",
    "job = execute(alice_bob_qubits, backend = backend, shots = 1)\n",
    "result = job.result()\n",
    "counts = result.get_counts()\n",
    "\n",
    "alice_bits = []\n",
    "bob_bits = []\n",
    "for i in range(n):\n",
    "  bits = list(counts[i].keys())[0]\n",
    "  alice_bits += [bits[0]]\n",
    "  bob_bits += [bits[1]]\n",
    "\n",
    "\n",
    "\n",
    "#========\n",
    "# STEP 6\n",
    "#========\n",
    "alice_key = []\n",
    "alice_mismatched_choices = []\n",
    "alice_mismatched_choice_bits = []\n",
    "\n",
    "bob_key = []\n",
    "bob_mismatched_choices = []\n",
    "bob_mismatched_choice_bits = []\n",
    "\n",
    "for i in range(n): #\n",
    "\n",
    "  # MATCHING CHOICE\n",
    "  if alice_options[alice_choices[i]] == bob_options[bob_choices[i]]:# \n",
    "    alice_key += [int(alice_bits[i])]\n",
    "    bob_key += [1 - int(bob_bits[i])]# \n",
    "\n",
    "  # MISMATCHING CHOICE\n",
    "  else:\n",
    "    alice_mismatched_choices += [alice_choices[i]]\n",
    "    bob_mismatched_choices += [bob_choices[i]] # \n",
    "\n",
    "    alice_mismatched_choice_bits += [alice_bits[i]] # \n",
    "    bob_mismatched_choice_bits +=  [bob_bits[i]]# \n",
    "\n",
    "\n",
    "entanglement = entanglement_amount(alice_mismatched_choices, alice_mismatched_choice_bits, bob_mismatched_choices, bob_mismatched_choice_bits)\n",
    "print(\"Entanglement of Mismatched Choices: \" + str(entanglement))\n",
    "print(\"Alice's Key: \" + str(alice_key))\n",
    "print(\"Bob's Key: \" + str(bob_key))\n",
    "print(\"Key Length: \" + str(len(bob_key)))\n",
    "print(\"Number of Disagreeing Key Bits: \" + str(sum([alice_key[i] != bob_key[i] for i in range(len(alice_key))])))"
   ]
  },
  {
   "cell_type": "markdown",
   "metadata": {
    "id": "1iTb1NsShPR_"
   },
   "source": [
    "### **Questions**\n",
    "\n",
    "You have now implemented the full $n$ qubit E91 protocol without any interception. Before moving on, make sure you understand the answers to the following questions:\n",
    "\n",
    "1. The average key length is $\\frac{2}{9}n$. Why? **Hint**: Consider what needs to happen for bits to be included in the key and how many ways this can happen.\n",
    "\n",
    "1. The amount of entanglement being reported says how Alice's and Bob's measurements are related. The more often their measurements agree (00 or 11), the more positive the entanglement gets. The more often their measurements disagree (01 or 10), the more negative the entanglement gets. What results are you tending to see above and why do they make sense?\n",
    "\n",
    "<br>\n",
    "\n",
    "**NOTE**: The theoretical amount of entanglement for *many* qubits is $-2\\sqrt 2 \\approx -2.8$, but it is unlikely that you would get exactly this amount."
   ]
  },
  {
   "cell_type": "markdown",
   "metadata": {},
   "source": [
    "Why is the average key length 2/9𝑛 in the E91 protocol? (Hint: Consider what needs to happen for bits to be included in the key and how many ways this can happen)\n",
    "\n",
    "In the E91 protocol, Alice and Bob can only include bits in their shared key if their measurement bases match. For example, if Alice measures a qubit in the Z-basis and Bob measures the same qubit in the X-basis, they can't include the corresponding bit in their key.\n",
    "\n",
    "There are three possible measurement bases in the E91 protocol, so there are three ways that Alice and Bob can choose their bases. If they choose the same basis, they can include the corresponding bit in their key with a probability of 1/2. If they choose different bases, they can't include the corresponding bit in their key.\n",
    "\n",
    "So, for each qubit, there is a 1/3 probability that Alice and Bob will choose the same basis, and a 2/3 probability that they will choose different bases. Therefore, on average, Alice and Bob will be able to include 2/3 of the bits in their key, or 2/9 of the total number of qubits."
   ]
  },
  {
   "cell_type": "markdown",
   "metadata": {
    "id": "XI6OiJb4k7cH"
   },
   "source": [
    "## **Part 3: Eve Intercepts!**\n",
    "---\n",
    "\n",
    "Lastly, you will add Eve's interception to the protocol. In BB84, Eve could intercept when Alice sent qubits to Bob. However, In E91 Alice and Bob never send each other any qubits! So, instead Eve:\n",
    "1. Sneaks into the lab after Alice and Bob shared their Bell states and go out for lunch. She measures the qubits before Alice and Bob leave.\n",
    "\n",
    "1. She then prepares new qubits in the states she measured ($|01\\rangle$ or $|10\\rangle$ each).\n",
    "\n",
    "1. Later on, she listens in when Alice and Bob compare their choices and keeps only the bits corresponding to the times when Alice and Bob's choices matched.\n",
    "\n",
    "\n",
    "As we will see, Alice and Bob are not being reckless by leaving their qubits behind in the lab because Alice and Bob can always detect when Eve has intercepted."
   ]
  },
  {
   "cell_type": "markdown",
   "metadata": {
    "id": "rh0AiF4PmCVa"
   },
   "source": [
    "### **Exercise #1**\n",
    "\n",
    "Eve intercepts right after Step #1 by sneaking into the lab after Alice and Bob shared their Bell states and go out for lunch. She measures the qubits before Alice and Bob leave.\n",
    "\n",
    "\n",
    "**Complete the code below to perform this step.**"
   ]
  },
  {
   "cell_type": "code",
   "execution_count": 25,
   "metadata": {
    "id": "kOwJAQcRqAag"
   },
   "outputs": [],
   "source": [
    "#========\n",
    "# STEP 1\n",
    "#========\n",
    "n = 100\n",
    "\n",
    "alice_bob_qubits = []\n",
    "\n",
    "for i in range(n):\n",
    "    alice_bob_qubits += [QuantumCircuit(2, 2)] # Creating the quantum circuit with 2 qubits and 2 classical bits.\n",
    "\n",
    "    alice_bob_qubits[i].h(0)\n",
    "    alice_bob_qubits[i].cx(0, 1)\n",
    "    alice_bob_qubits[i].rz(math.pi/4,0)\n",
    "    alice_bob_qubits[i].h(0)\n",
    "\n",
    "\n",
    "\n",
    "#================\n",
    "# EVE INTERCEPTS!\n",
    "#================\n",
    "for i in range(n):\n",
    "    alice_bob_qubits[i].measure([0, 1], [0, 1])# COMPLETE THIS LINE\n",
    "      \n",
    "      \n",
    "\n",
    "backend = Aer.get_backend('qasm_simulator')\n",
    "job = execute(alice_bob_qubits, backend = backend, shots = 1)\n",
    "result = job.result()\n",
    "counts = result.get_counts()"
   ]
  },
  {
   "cell_type": "markdown",
   "metadata": {
    "id": "8EVh1SaIqYSZ"
   },
   "source": [
    "### **Exercise #2**\n",
    "\n",
    "Eve then prepares new qubits in the states she measured ($|01\\rangle$ or $|10\\rangle$ each).\n",
    "\n",
    "\n",
    "**Complete the code below to perform this step.**"
   ]
  },
  {
   "cell_type": "code",
   "execution_count": 26,
   "metadata": {
    "id": "fTdcje0pqhgA"
   },
   "outputs": [],
   "source": [
    "eve_alice_bits = []\n",
    "eve_bob_bits = []\n",
    "\n",
    "for i in range(n):\n",
    "\n",
    "  # Looks at measurement results\n",
    "  bits = list(counts[i].keys())[0]\n",
    "  eve_alice_bits += [bits[0]]\n",
    "  eve_bob_bits += [bits[1]]#\n",
    "\n",
    "  # Prepares new qubits for Alice and Bob\n",
    "  alice_bob_qubits[i] = QuantumCircuit(2,2)# COMPLETE THIS LINE\n",
    "\n",
    "  # Makes sure they are in the same state she measured\n",
    "  if eve_alice_bits[i] == 1: alice_bob_qubits[i].x(0)# COMPLETE THIS LINE\n",
    "  if eve_bob_bits[i] == 1: alice_bob_qubits[i].x(1)# COMPLETE THIS LINE"
   ]
  },
  {
   "cell_type": "markdown",
   "metadata": {
    "id": "uO7On-gArHoD"
   },
   "source": [
    "### **Exercise #3**\n",
    "\n",
    "Then Alice and Bob leave with their qubits and no idea that Eve intercepted. So, they carry out Steps #2 - 5 and perform the measurements.\n",
    "\n",
    "\n",
    "**Copy the relevant code from Part 2 into the cell below.**"
   ]
  },
  {
   "cell_type": "code",
   "execution_count": 27,
   "metadata": {
    "tags": []
   },
   "outputs": [],
   "source": [
    "#========\n",
    "# STEP 2\n",
    "#========\n",
    "alice_choices = []\n",
    "alice_circuits = []\n",
    "\n",
    "for i in range(n):\n",
    "  alice_choice = random.randint(0,2)\n",
    "  alice_choices += [alice_choice]\n",
    "  alice_circuits += [alice_options[alice_choice]]\n",
    "      \n",
    "\n",
    "#========\n",
    "# STEP 3\n",
    "#========\n",
    "for i in range(n):\n",
    "  alice_bob_qubits[i] = alice_bob_qubits[i].compose(alice_circuits[i], qubits = [0], clbits = [0])\n",
    "\n",
    "#========\n",
    "# STEP 4\n",
    "#========\n",
    "bob_choices = []\n",
    "bob_circuits = []\n",
    "\n",
    "for i in range(n):\n",
    "  bob_choice = random.randint(0,2)\n",
    "  bob_choices += [bob_choice]\n",
    "  bob_circuits += [bob_options[bob_choice]]\n",
    "\n",
    "\n",
    "#========\n",
    "# STEP 5\n",
    "#========\n",
    "for i in range(n):\n",
    "  alice_bob_qubits[i].measure = alice_bob_qubits[i].compose(bob_circuits[i], qubits = 0, clbits = 0)\n"
   ]
  },
  {
   "cell_type": "markdown",
   "metadata": {
    "id": "pJ7C5wQqrjtB"
   },
   "source": [
    "### **Exercise #4**\n",
    "\n",
    "Now, Eve listens in when Alice and Bob compare their choices and keeps only the bits corresponding to the times when Alice and Bob's choices matched.\n",
    "\n",
    "\n",
    "**Copy and modify your Step #6 code from Part 2 in the cell below.**"
   ]
  },
  {
   "cell_type": "code",
   "execution_count": 28,
   "metadata": {
    "tags": []
   },
   "outputs": [
    {
     "name": "stdout",
     "output_type": "stream",
     "text": [
      "Entanglement of Matched Choices: 0.1411764705882353\n",
      "Alice's Key: [0, 0, 0, 0, 0, 0, 0, 0, 0, 0, 0, 0, 0, 0, 0, 0, 0, 0, 0, 0, 0, 0, 0, 0, 0, 0, 0, 0, 0, 0, 0, 0, 0, 0, 0, 0, 0]\n",
      "Bob's Key: [0, 1, 1, 1, 1, 0, 0, 1, 0, 0, 0, 1, 1, 1, 0, 0, 0, 0, 1, 1, 1, 1, 1, 0, 0, 0, 1, 0, 1, 0, 0, 0, 1, 1, 0, 0, 0]\n",
      "Eve's Key: [0, 0, 0, 0, 0, 0, 0, 0, 0, 0, 0, 1, 0, 0, 1, 0, 0, 1, 0, 1, 0, 0, 1, 0, 0, 0, 0, 0, 1, 1, 1, 0, 0, 0, 0, 0, 0, 0, 0, 0, 0, 0, 0, 0, 0, 0, 0, 1, 1, 0, 0, 0, 0, 1, 0, 0, 0, 0, 1, 0, 1, 0, 0, 0, 0, 0, 0, 0, 0, 0, 1, 0, 0, 1, 0, 0, 0, 0, 0, 0, 0, 0, 0, 0, 0, 0, 1, 0, 0, 0, 0, 1, 0, 0, 0, 0, 0, 0, 0, 0]\n",
      "Key Length: 37\n",
      "Number of Disagreeing Key Bits between Alice and Bob: 17\n",
      "Number of Disagreeing Key Bits between Alice and Eve: 8\n",
      "Number of Disagreeing Key Bits between Bob and Eve: 17\n"
     ]
    }
   ],
   "source": [
    "# STEP 6\n",
    "#========\n",
    "alice_key = []\n",
    "alice_matched_choices = []\n",
    "alice_matched_choice_bits = []\n",
    "\n",
    "bob_key = []\n",
    "bob_matched_choices = []\n",
    "bob_matched_choice_bits = []\n",
    "\n",
    "eve_key = [0] * n  # Initialize Eve's key with zeros\n",
    "\n",
    "# \n",
    "for i in range(n):\n",
    "  # MATCHING CHOICE\n",
    "  if alice_choices[i] == bob_choices[i]:\n",
    "    alice_key.append(int(alice_bits[i]))\n",
    "    bob_key.append(int(bob_bits[i]))\n",
    "    eve_key[i] = int(alice_bits[i]) ^ int(bob_bits[i])\n",
    "  # MISMATCHING CHOICE\n",
    "  else:\n",
    "    alice_matched_choices.append(alice_choices[i])\n",
    "    bob_matched_choices.append(bob_choices[i])\n",
    "    alice_matched_choice_bits.append(alice_bits[i])\n",
    "    bob_matched_choice_bits.append(bob_bits[i])\n",
    "\n",
    "entanglement = entanglement_amount(alice_matched_choices, alice_matched_choice_bits, bob_matched_choices, bob_matched_choice_bits)\n",
    "print(\"Entanglement of Matched Choices: \" + str(entanglement))\n",
    "print(\"Alice's Key: \" + str(alice_key))\n",
    "print(\"Bob's Key: \" + str(bob_key))\n",
    "print(\"Eve's Key: \" + str(eve_key))\n",
    "print(\"Key Length: \" + str(len(bob_key)))\n",
    "print(\"Number of Disagreeing Key Bits between Alice and Bob: \" + str(sum([alice_key[i] != bob_key[i] for i in range(len(alice_key))])))\n",
    "print(\"Number of Disagreeing Key Bits between Alice and Eve: \" + str(sum([alice_key[i] != eve_key[i] for i in range(len(alice_key))])))\n",
    "print(\"Number of Disagreeing Key Bits between Bob and Eve: \" + str(sum([bob_key[i] != eve_key[i] for i in range(len(alice_key))])))\n",
    "\n"
   ]
  },
  {
   "cell_type": "markdown",
   "metadata": {
    "id": "BT3VoQXKssa6"
   },
   "source": [
    "### **Exercise #5**\n",
    "\n",
    "Now, put all your code into one cell below so that you can easily run this protocol many times."
   ]
  },
  {
   "cell_type": "code",
   "execution_count": 29,
   "metadata": {
    "id": "Ezg3wLaQs6ot"
   },
   "outputs": [
    {
     "name": "stdout",
     "output_type": "stream",
     "text": [
      "Entanglement of Matched Choices: 0.16239316239316243\n",
      "Alice's Key: [0, 0, 0, 0, 0, 0, 0, 0, 0, 0, 0, 0, 0, 0, 0, 0, 0, 0, 0, 0, 0, 0, 0, 0, 0, 0, 0, 0, 0, 0, 0, 0, 0, 0, 0]\n",
      "Bob's Key: [1, 0, 1, 0, 1, 0, 0, 0, 0, 1, 1, 0, 0, 0, 0, 0, 0, 0, 0, 0, 1, 1, 0, 1, 0, 1, 0, 0, 0, 1, 0, 0, 0, 0, 0]\n",
      "Eve's Key: [0, 0, 1, 0, 0, 0, 0, 0, 0, 0, 0, 0, 0, 0, 1, 0, 0, 1, 0, 0, 0, 0, 0, 0, 0, 0, 0, 0, 0, 1, 1, 0, 0, 0, 0, 0, 0, 0, 0, 0, 0, 0, 0, 0, 0, 0, 0, 0, 0, 0, 0, 0, 0, 0, 0, 0, 0, 0, 1, 0, 1, 0, 0, 0, 0, 0, 1, 0, 0, 0, 0, 0, 0, 1, 0, 0, 0, 0, 0, 0, 0, 0, 0, 0, 0, 1, 0, 0, 0, 0, 0, 0, 0, 0, 0, 0, 0, 0, 0, 0]\n",
      "Key Length: 35\n",
      "Number of Disagreeing Key Bits between Alice and Bob: 10\n",
      "Number of Disagreeing Key Bits between Alice and Eve: 5\n",
      "Number of Disagreeing Key Bits between Bob and Eve: 11\n"
     ]
    }
   ],
   "source": [
    "#========\n",
    "# STEP 1\n",
    "#========\n",
    "\n",
    "# Define the number of qubits we want to use\n",
    "n = 100\n",
    "\n",
    "# Create an empty list to store the quantum circuits\n",
    "alice_bob_qubits = []\n",
    "\n",
    "# Loop over each qubit and create a quantum circuit with 2 qubits and 2 classical bits\n",
    "for i in range(n):\n",
    "    alice_bob_qubits += [QuantumCircuit(2, 2)] # Creating the quantum circuit with 2 qubits and 2 classical bits.\n",
    "    \n",
    "    # Now to create the |𝛽11⟩ Bell state \n",
    "    \n",
    "    # Apply the Hadamard gate to the first qubit\n",
    "    alice_bob_qubits[i].h(0)\n",
    "    \n",
    "    # Apply CNOT gate with first qubit as control and second qubit as target\n",
    "    alice_bob_qubits[i].cx(0, 1)\n",
    "    \n",
    "    # Apply a rotation around the z-axis by pi/4 radians to the first qubit\n",
    "    alice_bob_qubits[i].rz(math.pi/4,0)\n",
    "    \n",
    "    # Apply a Hadamard gate to the first qubit\n",
    "    alice_bob_qubits[i].h(0)\n",
    "\n",
    "\n",
    "\n",
    "#================\n",
    "# EVE INTERCEPTS!\n",
    "#================\n",
    "\n",
    "# Loop over each qubit and measure it\n",
    "for i in range(n):\n",
    "    alice_bob_qubits[i].measure([0, 1], [0, 1])\n",
    "      \n",
    "      \n",
    " # Execute the quantum circuits using qasm_simulator backend\n",
    "backend = Aer.get_backend('qasm_simulator')\n",
    "job = execute(alice_bob_qubits, backend = backend, shots = 1)\n",
    "result = job.result()\n",
    "counts = result.get_counts()\n",
    "\n",
    "# Extract Alice and Bob's bits from the measurement results intercepted by Eve\n",
    "eve_alice_bits = []\n",
    "eve_bob_bits = []\n",
    "\n",
    "for i in range(n):\n",
    "\n",
    "  # Looks at measurement results\n",
    "  bits = list(counts[i].keys())[0]\n",
    "  eve_alice_bits += [bits[0]]\n",
    "  eve_bob_bits += [bits[1]]#\n",
    "\n",
    "  # Prepares new qubits for Alice and Bob\n",
    "  alice_bob_qubits[i] = QuantumCircuit(2,2)# \n",
    "\n",
    "  # Makes sure they are in the same state she measured\n",
    "  if eve_alice_bits[i] == 1: alice_bob_qubits[i].x(0)# \n",
    "  if eve_bob_bits[i] == 1: alice_bob_qubits[i].x(1)# \n",
    "\n",
    "#========\n",
    "# STEP 2\n",
    "#========\n",
    "\n",
    "# Create empty lists for storing Alice's choices and circuits\n",
    "alice_choices = []\n",
    "alice_circuits = []\n",
    "\n",
    "# Loop over each qubit and randomly choose for Alice\n",
    "for i in range(n):\n",
    "  alice_choice = random.randint(0,2)\n",
    "  alice_choices += [alice_choice]\n",
    "  alice_circuits += [alice_options[alice_choice]]\n",
    "      \n",
    "\n",
    "#========\n",
    "# STEP 3\n",
    "#========\n",
    "for i in range(n):\n",
    "  alice_bob_qubits[i] = alice_bob_qubits[i].compose(alice_circuits[i], qubits = [0], clbits = [0])\n",
    "\n",
    "#========\n",
    "# STEP 4\n",
    "#========\n",
    "# Create empty lists for storing Bob's choices and circuits\n",
    "bob_choices = []\n",
    "bob_circuits = []\n",
    "\n",
    "# Loop over each qubit and randomly choose for Bob\n",
    "for i in range(n):\n",
    "  bob_choice = random.randint(0,2)\n",
    "  bob_choices += [bob_choice]\n",
    "  bob_circuits += [bob_options[bob_choice]]\n",
    "\n",
    "\n",
    "#========\n",
    "# STEP 5\n",
    "#========\n",
    "# Measure each qubit in the combined Alice-Bob circuit and store the measurement results\n",
    "for i in range(n):\n",
    "  alice_bob_qubits[i].measure = alice_bob_qubits[i].compose(bob_circuits[i], qubits = 0, clbits = 0)\n",
    "\n",
    "\n",
    "# STEP 6\n",
    "#========\n",
    "\n",
    "# Initialize Alice's and Bob's keys and matched choice lists\n",
    "alice_key = []\n",
    "alice_matched_choices = []\n",
    "alice_matched_choice_bits = []\n",
    "\n",
    "bob_key = []\n",
    "bob_matched_choices = []\n",
    "bob_matched_choice_bits = []\n",
    "\n",
    "eve_key = [0] * n  # Initialize Eve's key with zeros\n",
    "\n",
    "# Loop over each qubit in the combined Alice-Bob circuit\n",
    "for i in range(n):\n",
    "  # MATCHING CHOICE\n",
    "  # If Alice and Bob chose the same basis for this qubit, store the bit value of their measurement results\n",
    "  if alice_choices[i] == bob_choices[i]:\n",
    "    alice_key.append(int(alice_bits[i]))\n",
    "    bob_key.append(int(bob_bits[i]))\n",
    "    \n",
    "    # Compute the bit value for Eve's measurement result\n",
    "    eve_key[i] = int(alice_bits[i]) ^ int(bob_bits[i])\n",
    "  # MISMATCHING CHOICE\n",
    "  # If Alice and Bob chose different bases for this qubit, store their choice and bit values separately\n",
    "  else:\n",
    "    alice_matched_choices.append(alice_choices[i])\n",
    "    bob_matched_choices.append(bob_choices[i])\n",
    "    alice_matched_choice_bits.append(alice_bits[i])\n",
    "    bob_matched_choice_bits.append(bob_bits[i])\n",
    "\n",
    "# Compute the entanglement amount for the matched choice qubits\n",
    "entanglement = entanglement_amount(alice_matched_choices, alice_matched_choice_bits, bob_matched_choices, bob_matched_choice_bits)\n",
    "\n",
    "# Print the results\n",
    "print(\"Entanglement of Matched Choices: \" + str(entanglement))\n",
    "print(\"Alice's Key: \" + str(alice_key))\n",
    "print(\"Bob's Key: \" + str(bob_key))\n",
    "print(\"Eve's Key: \" + str(eve_key))\n",
    "print(\"Key Length: \" + str(len(bob_key)))\n",
    "print(\"Number of Disagreeing Key Bits between Alice and Bob: \" + str(sum([alice_key[i] != bob_key[i] for i in range(len(alice_key))])))\n",
    "print(\"Number of Disagreeing Key Bits between Alice and Eve: \" + str(sum([alice_key[i] != eve_key[i] for i in range(len(alice_key))])))\n",
    "print(\"Number of Disagreeing Key Bits between Bob and Eve: \" + str(sum([bob_key[i] != eve_key[i] for i in range(len(alice_key))])))\n",
    "\n"
   ]
  },
  {
   "cell_type": "markdown",
   "metadata": {
    "id": "BFajMb7xEL0B"
   },
   "source": [
    "## **Wrapping Up**\n",
    "\n",
    "*Congratulations!* You have implemented the E91 protocol in qiskit -- something quantum networks will likely be relying on for security quite soon. To wrap up, please make sure to write a summary of the concepts covered here, including answers to the following questions:\n",
    "\n",
    "1. How does Eve's interception change the amount of entanglement Alice and Bob share? Why?\n",
    "\n",
    "1. Imagine that Eve attempts to go unnoticed by preparing Alice and Bob's qubits back into the $|\\beta_{11}\\rangle$ state instead of whatever her measurement results were. Answer these two questions based on this scenario:\n",
    "  * Would this accomplish Eve's goal of going unnoticed? **Hint**: Think about how the entanglement would or would not change in this case. Consider writing code to test this.\n",
    "  * Why does this still keep Eve from learning Alice's and Bob's key?\n",
    "\n",
    "1. In BB84, Alice decides the key at the very beginning and tries communicating it to Bob securely. That is not the case in E91. *When* in the protocol is the key officially created? **Hint**: It's before Alice and Bob actually create their keys."
   ]
  },
  {
   "cell_type": "markdown",
   "metadata": {
    "jp-MarkdownHeadingCollapsed": true,
    "tags": []
   },
   "source": [
    "# Wrapping Up Questions\n",
    "\n",
    "The E91 protocol is a quantum key distribution protocol that allows two parties described here as Alice and Bob, to create a shared secret key by transmitting entangled qubits and performing measurements. The protocol also includes a third party, Eve, an eavesdropper who may attempt to intercept the qubits in order to learn the secret key.\n",
    "\n",
    "The goal of Quantum Key Distribution (QKD) is to establish a secure communication channel between two parties, commonly referred to as Alice and Bob, by exploiting the principles of quantum mechanics. QKD enables the two parties to generate a shared secret key that can be used to encrypt and decrypt messages sent over the communication channel. The security of QKD is based on the fundamental laws of quantum mechanics in order to prohibit eavesdropping without leaving detectable traces, making it possible to detect any attempt to intercept the key. This makes QKD an attractive solution for secure communication, particularly in scenarios where traditional cryptographic methods may be vulnerable to attack.\n",
    "\n",
    "# 1. How does Eve's interception change the amount of entanglement Alice and Bob share? Why?\n",
    "\n",
    "Eve's interception changes the amount of entanglement Alice and Bob share because it introduces errors into the system, reducing the number of entangled qubits that Alice and Bob can use to create their secret key. Eve's interception also introduces noise into the system, making it more difficult for Alice and Bob to detect any eavesdropping.\n",
    "\n",
    "In the E91 Protocol, Alice and Bob begin by creating a pair of entangled qubits, which they keep in their possession. During the protocol, they measure these qubits and compare the results to generate a shared secret key. The entangled qubits are critical to the security of the protocol because they allow Alice and Bob to establish a shared secret key that is secure against eavesdropping.\n",
    "\n",
    "However, if Eve intercepts one of the entangled qubits and tries to learn information about its state, she will necessarily disturb the entangled state. As a result, the amount of entanglement shared between Alice and Bob will be reduced. This is because entanglement is a fragile resource that is easily disrupted by interference from the environment, including eavesdropping.\n",
    "\n",
    "The reduced amount of entanglement makes the protocol less secure because it allows Eve to more easily intercept and learn information about Alice's and Bob's communication. Therefore, it is important to detect and prevent any eavesdropping attempts during the protocol to ensure the security of the shared key.\n",
    "\n",
    "Therefore, in order to prevent Eve from eavesdropping on their communication, Alice and Bob need to use quantum error-correcting codes to detect and correct errors, and they need to use quantum key distribution protocols that are designed to detect eavesdropping to determine if the communication is secure or compromised.\n",
    "\n",
    "# 2. Imagine that Eve attempts to go unnoticed by preparing Alice and Bob's qubits back into the  |𝛽11⟩  state instead of whatever her measurement results were. Answer these two questions based on this scenario:\n",
    "\n",
    "- Would this accomplish Eve's goal of going unnoticed? Hint: Think about how the entanglement would or would not change in this case. Consider writing code to test this.\n",
    "- Why does this still keep Eve from learning Alice's and Bob's key?\n",
    "\n",
    "\n",
    "If Eve attempts to prepare Alice and Bob's qubits back into the |𝛽11⟩ state instead of measuring them, she will not accomplish her goal of going unnoticed. This is because the entanglement between Alice and Bob's qubits will be lost, and Alice and Bob will detect that there is interference in the transmission. Even if Eve is successful in preparing the qubits back into the |𝛽11⟩ state, she will not be able to learn Alice and Bob's key because the key is generated through a process of comparing measurement results, which Eve cannot access without being detected.\n",
    "\n",
    "Even if Eve were able to prepare Alice and Bob's qubits back into the |𝛽11⟩ state without detection, this would not allow her to learn Alice's and Bob's key. This is because the key is derived from the correlations between Alice's and Bob's measurement results, which are based on the entangled state of the qubits that Alice and Bob possess. If Eve prepares the qubits back into the |𝛽11⟩ state, she would not know the precise state of the qubits that Alice and Bob actually measured, and so she would not be able to learn the key.\n",
    "\n",
    "# 3. When in the E91 protocol is the key officially created?\n",
    "The entanglement is used to create a shared secret key between Alice and Bob, which is done before they start creating their final keys. Once they have established the shared key through entanglement, they can use it to create their own final keys by discarding the bits that don't match and keeping the bits that do match. So it is \"officially\" made when the entanglement happens and then later on Alice and Bob get the secret key by discarding bits.\n"
   ]
  },
  {
   "cell_type": "markdown",
   "metadata": {
    "id": "BF1dNzrLntod"
   },
   "source": [
    "# End of Lab\n",
    "\n",
    "---\n",
    "\n",
    "© 2023 The Coding School, All rights reserved"
   ]
  }
 ],
 "metadata": {
  "colab": {
   "provenance": []
  },
  "kernelspec": {
   "display_name": "Python 3 (ipykernel)",
   "language": "python",
   "name": "python3"
  },
  "language_info": {
   "codemirror_mode": {
    "name": "ipython",
    "version": 3
   },
   "file_extension": ".py",
   "mimetype": "text/x-python",
   "name": "python",
   "nbconvert_exporter": "python",
   "pygments_lexer": "ipython3",
   "version": "3.10.8"
  },
  "widgets": {
   "application/vnd.jupyter.widget-state+json": {
    "state": {},
    "version_major": 2,
    "version_minor": 0
   }
  }
 },
 "nbformat": 4,
 "nbformat_minor": 4
}
